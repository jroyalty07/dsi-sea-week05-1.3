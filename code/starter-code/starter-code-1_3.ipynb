{
 "cells": [
  {
   "cell_type": "markdown",
   "metadata": {},
   "source": [
    "# Multi-table Datasets - ENRON Archive"
   ]
  },
  {
   "cell_type": "markdown",
   "metadata": {},
   "source": [
    "## 1. Data import\n",
    "\n",
    "Connect to the file 'assets/datasets/enron.db' using one of these methods:\n",
    "\n",
    "- sqlite3 python package\n",
    "- pandas.read_sql\n",
    "- SQLite Manager Firefox extension\n",
    "\n",
    "Take a look at the database and query the master table. How many Tables are there in the db?\n",
    "\n",
    "> Answer:\n",
    "There are 3 tables:\n",
    "- MessageBase\n",
    "- RecipientBase\n",
    "- EmployeeBase"
   ]
  },
  {
   "cell_type": "code",
   "execution_count": 1,
   "metadata": {
    "collapsed": false
   },
   "outputs": [
    {
     "data": {
      "text/plain": [
       "[(u'MessageBase',), (u'RecipientBase',), (u'EmployeeBase',)]"
      ]
     },
     "execution_count": 1,
     "metadata": {},
     "output_type": "execute_result"
    }
   ],
   "source": [
    "import sqlite3\n",
    "conn = sqlite3.connect('../../assets/datasets/enron.db') \n",
    "c = conn.cursor()\n",
    "c.execute(\"SELECT name FROM sqlite_master WHERE type='table';\").fetchall()\n"
   ]
  },
  {
   "cell_type": "markdown",
   "metadata": {},
   "source": [
    "Query the `sqlite_master` table to retrieve the schema of the `EmployeeBase` table.\n",
    "\n",
    "1. What fields are there?\n",
    "1. What's the type of each of them?"
   ]
  },
  {
   "cell_type": "code",
   "execution_count": 50,
   "metadata": {
    "collapsed": false
   },
   "outputs": [
    {
     "name": "stdout",
     "output_type": "stream",
     "text": [
      "Employee base columns: [u'eid', u'name', u'department', u'longdepartment', u'title', u'gender', u'seniority']\n",
      "Employee base column types: [u'INTEGER', u'TEXT', u'TEXT', u'TEXT', u'TEXT', u'TEXT', u'TEXT']\n",
      "Message base columns: [u'mid', u'filename', u'unix_time', u'subject', u'from_eid']\n",
      "Message base column types: [u'INTEGER', u'TEXT', u'INTEGER', u'TEXT', u'INTEGER']\n",
      "recipient base columns: [u'mid', u'rno', u'to_eid']\n",
      "recipient base column types: [u'INTEGER', u'INTEGER', u'INTEGER']\n"
     ]
    }
   ],
   "source": [
    "employee_columns = c.execute(\"PRAGMA table_info(EmployeeBase)\").fetchall()\n",
    "employee_column_types = [x[2] for x in employee_columns]\n",
    "employee_columns = [x[1] for x in employee_columns]\n",
    "\n",
    "message_columns = c.execute(\"PRAGMA table_info(MessageBase)\").fetchall()\n",
    "message_column_types = [x[2] for x in message_columns]\n",
    "message_columns = [x[1] for x in message_columns]\n",
    "\n",
    "recipient_columns = c.execute(\"PRAGMA table_info(RecipientBase)\").fetchall()\n",
    "recipient_column_types = [x[2] for x in recipient_columns]\n",
    "recipient_columns = [x[1] for x in recipient_columns]\n",
    "\n",
    "print \"Employee base columns: %s\" % employee_columns\n",
    "print \"Employee base column types: %s\" % employee_column_types\n",
    "print \"Message base columns: %s\" % message_columns\n",
    "print \"Message base column types: %s\" % message_column_types\n",
    "print \"recipient base columns: %s\" % recipient_columns\n",
    "print \"recipient base column types: %s\" % recipient_column_types\n"
   ]
  },
  {
   "cell_type": "markdown",
   "metadata": {},
   "source": [
    "1. Print the first 5 rows of EmployeeBase table\n",
    "1. Print the first 5 rows of MessageBase table\n",
    "1. Print the first 5 rows of RecipientBase table\n",
    "\n",
    "**Hint**  use `SELECT` and `LIMIT`."
   ]
  },
  {
   "cell_type": "code",
   "execution_count": 24,
   "metadata": {
    "collapsed": false
   },
   "outputs": [
    {
     "data": {
      "text/plain": [
       "[(1, 1, 59), (2, 1, 15), (3, 1, 15), (4, 1, 109), (4, 2, 49)]"
      ]
     },
     "execution_count": 24,
     "metadata": {},
     "output_type": "execute_result"
    }
   ],
   "source": [
    "c.execute(\"SELECT * FROM EmployeeBase LIMIT 5;\").fetchall()\n",
    "c.execute(\"SELECT * FROM MessageBase LIMIT 5;\").fetchall()\n",
    "c.execute(\"SELECT * FROM RecipientBase LIMIT 5;\").fetchall()"
   ]
  },
  {
   "cell_type": "markdown",
   "metadata": {},
   "source": [
    "Import each of the 3 tables to a Pandas Dataframes"
   ]
  },
  {
   "cell_type": "code",
   "execution_count": 269,
   "metadata": {
    "collapsed": false
   },
   "outputs": [
    {
     "data": {
      "text/html": [
       "<div>\n",
       "<table border=\"1\" class=\"dataframe\">\n",
       "  <thead>\n",
       "    <tr style=\"text-align: right;\">\n",
       "      <th></th>\n",
       "      <th>eid</th>\n",
       "      <th>name</th>\n",
       "      <th>department</th>\n",
       "      <th>longdepartment</th>\n",
       "      <th>title</th>\n",
       "      <th>gender</th>\n",
       "      <th>seniority</th>\n",
       "    </tr>\n",
       "  </thead>\n",
       "  <tbody>\n",
       "    <tr>\n",
       "      <th>0</th>\n",
       "      <td>1</td>\n",
       "      <td>John Arnold</td>\n",
       "      <td>Forestry</td>\n",
       "      <td>ENA Gas Financial</td>\n",
       "      <td>VP Trading</td>\n",
       "      <td>Male</td>\n",
       "      <td>Senior</td>\n",
       "    </tr>\n",
       "    <tr>\n",
       "      <th>1</th>\n",
       "      <td>2</td>\n",
       "      <td>Harry Arora</td>\n",
       "      <td>Forestry</td>\n",
       "      <td>ENA East Power</td>\n",
       "      <td>VP Trading</td>\n",
       "      <td>Male</td>\n",
       "      <td>Senior</td>\n",
       "    </tr>\n",
       "    <tr>\n",
       "      <th>2</th>\n",
       "      <td>3</td>\n",
       "      <td>Robert Badeer</td>\n",
       "      <td>Forestry</td>\n",
       "      <td>ENA West Power</td>\n",
       "      <td>Mgr Trading</td>\n",
       "      <td>Male</td>\n",
       "      <td>Junior</td>\n",
       "    </tr>\n",
       "    <tr>\n",
       "      <th>3</th>\n",
       "      <td>4</td>\n",
       "      <td>Susan Bailey</td>\n",
       "      <td>Legal</td>\n",
       "      <td>ENA Legal</td>\n",
       "      <td>Specialist Legal</td>\n",
       "      <td>Female</td>\n",
       "      <td>Junior</td>\n",
       "    </tr>\n",
       "    <tr>\n",
       "      <th>4</th>\n",
       "      <td>5</td>\n",
       "      <td>Eric Bass</td>\n",
       "      <td>Forestry</td>\n",
       "      <td>ENA Gas Texas</td>\n",
       "      <td>Trader</td>\n",
       "      <td>Male</td>\n",
       "      <td>Junior</td>\n",
       "    </tr>\n",
       "  </tbody>\n",
       "</table>\n",
       "</div>"
      ],
      "text/plain": [
       "   eid           name department     longdepartment             title  gender  \\\n",
       "0    1    John Arnold   Forestry  ENA Gas Financial        VP Trading    Male   \n",
       "1    2    Harry Arora   Forestry     ENA East Power        VP Trading    Male   \n",
       "2    3  Robert Badeer   Forestry     ENA West Power       Mgr Trading    Male   \n",
       "3    4   Susan Bailey      Legal          ENA Legal  Specialist Legal  Female   \n",
       "4    5      Eric Bass   Forestry      ENA Gas Texas            Trader    Male   \n",
       "\n",
       "  seniority  \n",
       "0    Senior  \n",
       "1    Senior  \n",
       "2    Junior  \n",
       "3    Junior  \n",
       "4    Junior  "
      ]
     },
     "execution_count": 269,
     "metadata": {},
     "output_type": "execute_result"
    }
   ],
   "source": [
    "import pandas as pd\n",
    "employee_base = pd.DataFrame(c.execute(\"SELECT * FROM EmployeeBase\").fetchall(), columns = employee_columns)\n",
    "message_base = pd.DataFrame(c.execute(\"SELECT * FROM MessageBase\").fetchall(), columns = message_columns)\n",
    "recipient_base = pd.DataFrame(c.execute(\"SELECT * FROM RecipientBase\").fetchall(), columns = recipient_columns)\n",
    "employee_base.head()"
   ]
  },
  {
   "cell_type": "code",
   "execution_count": 55,
   "metadata": {
    "collapsed": false
   },
   "outputs": [
    {
     "data": {
      "text/html": [
       "<div>\n",
       "<table border=\"1\" class=\"dataframe\">\n",
       "  <thead>\n",
       "    <tr style=\"text-align: right;\">\n",
       "      <th></th>\n",
       "      <th>mid</th>\n",
       "      <th>filename</th>\n",
       "      <th>unix_time</th>\n",
       "      <th>subject</th>\n",
       "      <th>from_eid</th>\n",
       "    </tr>\n",
       "  </thead>\n",
       "  <tbody>\n",
       "    <tr>\n",
       "      <th>0</th>\n",
       "      <td>1</td>\n",
       "      <td>taylor-m/sent/11</td>\n",
       "      <td>910930020</td>\n",
       "      <td>Cd$ CME letter</td>\n",
       "      <td>138</td>\n",
       "    </tr>\n",
       "    <tr>\n",
       "      <th>1</th>\n",
       "      <td>2</td>\n",
       "      <td>taylor-m/sent/17</td>\n",
       "      <td>911459940</td>\n",
       "      <td>Indemnification</td>\n",
       "      <td>138</td>\n",
       "    </tr>\n",
       "    <tr>\n",
       "      <th>2</th>\n",
       "      <td>3</td>\n",
       "      <td>taylor-m/sent/18</td>\n",
       "      <td>911463840</td>\n",
       "      <td>Re: Indemnification</td>\n",
       "      <td>138</td>\n",
       "    </tr>\n",
       "    <tr>\n",
       "      <th>3</th>\n",
       "      <td>4</td>\n",
       "      <td>taylor-m/sent/23</td>\n",
       "      <td>911874180</td>\n",
       "      <td>Re: Coral Energy, L.P.</td>\n",
       "      <td>138</td>\n",
       "    </tr>\n",
       "    <tr>\n",
       "      <th>4</th>\n",
       "      <td>5</td>\n",
       "      <td>taylor-m/sent/27</td>\n",
       "      <td>912396120</td>\n",
       "      <td>Bankruptcy Code revisions</td>\n",
       "      <td>138</td>\n",
       "    </tr>\n",
       "  </tbody>\n",
       "</table>\n",
       "</div>"
      ],
      "text/plain": [
       "   mid          filename  unix_time                    subject  from_eid\n",
       "0    1  taylor-m/sent/11  910930020             Cd$ CME letter       138\n",
       "1    2  taylor-m/sent/17  911459940            Indemnification       138\n",
       "2    3  taylor-m/sent/18  911463840        Re: Indemnification       138\n",
       "3    4  taylor-m/sent/23  911874180     Re: Coral Energy, L.P.       138\n",
       "4    5  taylor-m/sent/27  912396120  Bankruptcy Code revisions       138"
      ]
     },
     "execution_count": 55,
     "metadata": {},
     "output_type": "execute_result"
    }
   ],
   "source": [
    "message_base.head()"
   ]
  },
  {
   "cell_type": "code",
   "execution_count": 117,
   "metadata": {
    "collapsed": false
   },
   "outputs": [
    {
     "data": {
      "text/html": [
       "<div>\n",
       "<table border=\"1\" class=\"dataframe\">\n",
       "  <thead>\n",
       "    <tr style=\"text-align: right;\">\n",
       "      <th></th>\n",
       "      <th>mid</th>\n",
       "      <th>rno</th>\n",
       "      <th>to_eid</th>\n",
       "    </tr>\n",
       "  </thead>\n",
       "  <tbody>\n",
       "    <tr>\n",
       "      <th>0</th>\n",
       "      <td>1</td>\n",
       "      <td>1</td>\n",
       "      <td>59</td>\n",
       "    </tr>\n",
       "    <tr>\n",
       "      <th>1</th>\n",
       "      <td>2</td>\n",
       "      <td>1</td>\n",
       "      <td>15</td>\n",
       "    </tr>\n",
       "    <tr>\n",
       "      <th>2</th>\n",
       "      <td>3</td>\n",
       "      <td>1</td>\n",
       "      <td>15</td>\n",
       "    </tr>\n",
       "    <tr>\n",
       "      <th>3</th>\n",
       "      <td>4</td>\n",
       "      <td>1</td>\n",
       "      <td>109</td>\n",
       "    </tr>\n",
       "    <tr>\n",
       "      <th>4</th>\n",
       "      <td>4</td>\n",
       "      <td>2</td>\n",
       "      <td>49</td>\n",
       "    </tr>\n",
       "    <tr>\n",
       "      <th>5</th>\n",
       "      <td>4</td>\n",
       "      <td>3</td>\n",
       "      <td>120</td>\n",
       "    </tr>\n",
       "    <tr>\n",
       "      <th>6</th>\n",
       "      <td>4</td>\n",
       "      <td>4</td>\n",
       "      <td>59</td>\n",
       "    </tr>\n",
       "    <tr>\n",
       "      <th>7</th>\n",
       "      <td>5</td>\n",
       "      <td>1</td>\n",
       "      <td>45</td>\n",
       "    </tr>\n",
       "    <tr>\n",
       "      <th>8</th>\n",
       "      <td>5</td>\n",
       "      <td>2</td>\n",
       "      <td>53</td>\n",
       "    </tr>\n",
       "    <tr>\n",
       "      <th>9</th>\n",
       "      <td>6</td>\n",
       "      <td>1</td>\n",
       "      <td>113</td>\n",
       "    </tr>\n",
       "  </tbody>\n",
       "</table>\n",
       "</div>"
      ],
      "text/plain": [
       "   mid  rno  to_eid\n",
       "0    1    1      59\n",
       "1    2    1      15\n",
       "2    3    1      15\n",
       "3    4    1     109\n",
       "4    4    2      49\n",
       "5    4    3     120\n",
       "6    4    4      59\n",
       "7    5    1      45\n",
       "8    5    2      53\n",
       "9    6    1     113"
      ]
     },
     "execution_count": 117,
     "metadata": {},
     "output_type": "execute_result"
    }
   ],
   "source": [
    "recipient_base.head(10)"
   ]
  },
  {
   "cell_type": "markdown",
   "metadata": {},
   "source": [
    "## 2. Data Exploration\n",
    "\n",
    "Use the 3 dataframes to answer the following questions:\n",
    "\n",
    "1. How many employees are there in the company?\n",
    "- How many messages are there in the database?\n",
    "- Convert the timestamp column in the messages. When was the oldest message sent? And the newest?\n",
    "- Some messages are sent to more than one recipient. Group the messages by message_id and count the number of recepients. Then look at the distribution of recepient numbers.\n",
    "    - How many messages have only one recepient?\n",
    "    - How many messages have >= 5 recepients?\n",
    "    - What's the highest number of recepients?\n",
    "    - Who sent the message with the highest number of recepients?\n",
    "- Plot the distribution of recepient numbers using Bokeh."
   ]
  },
  {
   "cell_type": "code",
   "execution_count": 395,
   "metadata": {
    "collapsed": false
   },
   "outputs": [
    {
     "name": "stdout",
     "output_type": "stream",
     "text": [
      "1. There are 156 employees in the company\n",
      "2. There are 21635 messages inthe dataset\n",
      "3a. Newest: 2002-06-21 13:37:34\n",
      "3b. Oldest: 1998-11-13 04:07:00\n",
      "4a. Messages with one recipient: 14985\n",
      "4b. Messages with one recipient: 1380\n",
      "4c. Highest: 57\n",
      "4d. who sent it: John J. Lavorato\n"
     ]
    }
   ],
   "source": [
    "print \"1. There are %s employees in the company\" % len(employee_base['eid'])\n",
    "print \"2. There are %s messages inthe dataset\" % len(message_base['filename'])\n",
    "message_base['date_time'] = pd.to_datetime(message_base['unix_time'],unit='s')\n",
    "print \"3a. Newest: %s\" % max(message_base['date_time'])\n",
    "print \"3b. Oldest: %s\" % min(message_base['date_time'])\n",
    "\n",
    "merged = message_base.merge(recipient_base, how = 'inner', on = 'mid')\n",
    "x = pd.pivot_table(merged, values = ['rno'], index = ['mid'], aggfunc = len)\n",
    "print \"4a. Messages with one recipient: %s\" % len(x[x['rno'] == 1])\n",
    "print \"4b. Messages with one recipient: %s\" % len(x[x['rno'] >= 5])\n",
    "print \"4c. Highest: %s\" % max(x.sort_values('rno', ascending = False)['rno'])\n",
    "\n",
    "z = pd.pivot_table(merged, values = ['rno'], index = ['mid','from_eid'], aggfunc = len)\n",
    "stuff = employee_base[employee_base['eid'] == z.sort_values('rno', ascending = False)['rno'].index[0][1]]['name']\n",
    "print \"4d. who sent it: %s\" % stuff.values[0].encode('ascii','ignore')"
   ]
  },
  {
   "cell_type": "markdown",
   "metadata": {},
   "source": [
    "Rescale to investigate the tail of the curve"
   ]
  },
  {
   "cell_type": "code",
   "execution_count": 217,
   "metadata": {
    "collapsed": false
   },
   "outputs": [],
   "source": [
    "from bokeh.charts import Histogram, show, output_notebook\n",
    "\n",
    "p = Histogram(z, values = 'rno')\n",
    "show(p)"
   ]
  },
  {
   "cell_type": "markdown",
   "metadata": {},
   "source": [
    "## 3. Data Merging\n",
    "\n",
    "Use the pandas merge function to combine the information in the 3 dataframes to answer the following questions:\n",
    "\n",
    "1. Are there more Men or Women employees?\n",
    "- How is gender distributed across departments?\n",
    "- Who is sending more emails? Men or Women?\n",
    "- What's the average number of emails sent by each gender?\n",
    "- Are there more Juniors or Seniors?\n",
    "- Who is sending more emails? Juniors or Seniors?\n",
    "- Which department is sending more emails? How does that relate with the number of employees in the department?\n",
    "- Who are the top 3 senders of emails? (people who sent out the most emails)"
   ]
  },
  {
   "cell_type": "code",
   "execution_count": 346,
   "metadata": {
    "collapsed": false
   },
   "outputs": [
    {
     "name": "stdout",
     "output_type": "stream",
     "text": [
      "113 males\n",
      "43 females\n",
      "gender      Female  Male\n",
      "department              \n",
      "Forestry        10    50\n",
      "Legal           13    12\n",
      "Other           20    51\n",
      "male messages: 12841\n",
      "female messages: 8794\n",
      "Avg male messages rounded: 113\n",
      "Avg female messages rounded: 204\n",
      "There are 82 Juniors and 74 Seniors\n",
      "Junior messages: 9196\n",
      "Senior messages: 12439\n",
      "Seniors send more. \n",
      "\n",
      "Messages sent by department: \n",
      "Legal       10396\n",
      "Other        6852\n",
      "Forestry     4387\n",
      "Name: department, dtype: int64\n",
      "\n",
      "\n",
      "Top 3 senders and amounts\n",
      "Jeff Dasovich      1597\n",
      "Tana Jones         1379\n",
      "Sara Shackleton    1142\n",
      "Name: name, dtype: int64\n"
     ]
    }
   ],
   "source": [
    "temp = employee_base\n",
    "\n",
    "print \"%s males\" % len(employee_base[(employee_base['gender'] == 'Male')])\n",
    "print \"%s females\" % len(employee_base[(employee_base['gender'] == 'Female')])\n",
    "pivot = pd.pivot_table(temp[['gender','department']], columns = ['gender'], index = ['department'], aggfunc = len)\n",
    "print pivot\n",
    "\n",
    "message_base['eid'] = message_base['from_eid']\n",
    "mergy = message_base.merge(employee_base, how = 'inner', on = 'eid')\n",
    "\n",
    "print \"male messages: %s\" % len(mergy[(mergy['gender'] == 'Male')])\n",
    "print \"female messages: %s\" % len(mergy[(mergy['gender'] == 'Female')])\n",
    "print \"Avg male messages rounded: %s\" % (12841/113)\n",
    "print \"Avg female messages rounded: %s\" % (8794/43)\n",
    "x = employee_base['seniority'].value_counts()\n",
    "print \"There are %s Juniors and %s Seniors\" % (x[0],x[1])\n",
    "print \"Junior messages: %s\" % len(mergy[(mergy['seniority'] == 'Junior')])\n",
    "print \"Senior messages: %s\" % len(mergy[(mergy['seniority'] == 'Senior')])\n",
    "print \"Seniors send more. \\n\"\n",
    "print \"Messages sent by department: \"\n",
    "print mergy['department'].value_counts()\n",
    "print \"\\n\"\n",
    "print \"Top 3 senders and amounts\"\n",
    "print mergy['name'].value_counts()[:3]"
   ]
  },
  {
   "cell_type": "markdown",
   "metadata": {},
   "source": [
    "Answer the following questions regarding received messages:\n",
    "\n",
    "- Who is receiving more emails? Men or Women?\n",
    "- Who is receiving more emails? Juniors or Seniors?\n",
    "- Which department is receiving more emails? How does that relate with the number of employees in the department?\n",
    "- Who are the top 5 receivers of emails? (people who received the most emails)"
   ]
  },
  {
   "cell_type": "code",
   "execution_count": 384,
   "metadata": {
    "collapsed": false
   },
   "outputs": [
    {
     "name": "stdout",
     "output_type": "stream",
     "text": [
      "received emails by gender, males receive more\n",
      "Male      25549\n",
      "Female    12839\n",
      "Name: gender, dtype: int64\n",
      "received emails by seniority, seniors receive more\n",
      "Senior    23934\n",
      "Junior    14454\n",
      "Name: seniority, dtype: int64\n",
      "received emails by department, legal receives more \n",
      "\n",
      "Legal recevies 16311 emails, 42.49 percent of the total emails, and has 38.46 percent of the employees.\n",
      "Other recevies 13653 emails, 35.57 percent of the total emails, and has 16.03 percent of the employees.\n",
      "Legal recevies 8424 emails, 21.94 percent of the total emails, and has 45.51 percent of the employees.\n",
      "\n",
      "\n",
      "Top 5 receivers and amounts\n",
      "James D. Steffes    1797\n",
      "Richard Shapiro     1730\n",
      "Mark E. Taylor      1477\n",
      "Steven J. Kean      1290\n",
      "Sara Shackleton     1173\n",
      "Name: name, dtype: int64\n"
     ]
    }
   ],
   "source": [
    "recipient_base['eid'] = recipient_base['to_eid']\n",
    "mergy2 = recipient_base.merge(employee_base, how = 'inner', on = 'eid')\n",
    "print \"received emails by gender, males receive more\"\n",
    "print mergy2['gender'].value_counts()\n",
    "print \"received emails by seniority, seniors receive more\"\n",
    "print mergy2['seniority'].value_counts()\n",
    "print \"received emails by department, legal receives more \\n\"\n",
    "x = mergy2['department'].value_counts()\n",
    "total = sum(x)\n",
    "\n",
    "print \"Legal recevies %s emails, %.2f percent of the total emails, and has %.2f percent of the employees.\" %(x[0],(x[0] / float(total))*100,60/float(156)*100)\n",
    "print \"Other recevies %s emails, %.2f percent of the total emails, and has %.2f percent of the employees.\" %(x[1],(x[1] / float(total))*100,25/float(156)*100)\n",
    "print \"Legal recevies %s emails, %.2f percent of the total emails, and has %.2f percent of the employees.\" %(x[2],(x[2] / float(total))*100,71/float(156)*100)\n",
    "print \"\\n\"\n",
    "print \"Top 5 receivers and amounts\"\n",
    "print mergy2['name'].value_counts()[:5]\n"
   ]
  },
  {
   "cell_type": "markdown",
   "metadata": {},
   "source": [
    "Which employees sent the most 'mass' emails?"
   ]
  },
  {
   "cell_type": "code",
   "execution_count": 400,
   "metadata": {
    "collapsed": false
   },
   "outputs": [
    {
     "data": {
      "text/html": [
       "<div>\n",
       "<table border=\"1\" class=\"dataframe\">\n",
       "  <thead>\n",
       "    <tr style=\"text-align: right;\">\n",
       "      <th></th>\n",
       "      <th>mid</th>\n",
       "      <th>rno</th>\n",
       "      <th>to_eid</th>\n",
       "      <th>eid</th>\n",
       "    </tr>\n",
       "  </thead>\n",
       "  <tbody>\n",
       "    <tr>\n",
       "      <th>4</th>\n",
       "      <td>4</td>\n",
       "      <td>2</td>\n",
       "      <td>49</td>\n",
       "      <td>49</td>\n",
       "    </tr>\n",
       "    <tr>\n",
       "      <th>5</th>\n",
       "      <td>4</td>\n",
       "      <td>3</td>\n",
       "      <td>120</td>\n",
       "      <td>120</td>\n",
       "    </tr>\n",
       "    <tr>\n",
       "      <th>6</th>\n",
       "      <td>4</td>\n",
       "      <td>4</td>\n",
       "      <td>59</td>\n",
       "      <td>59</td>\n",
       "    </tr>\n",
       "    <tr>\n",
       "      <th>8</th>\n",
       "      <td>5</td>\n",
       "      <td>2</td>\n",
       "      <td>53</td>\n",
       "      <td>53</td>\n",
       "    </tr>\n",
       "    <tr>\n",
       "      <th>16</th>\n",
       "      <td>12</td>\n",
       "      <td>2</td>\n",
       "      <td>120</td>\n",
       "      <td>120</td>\n",
       "    </tr>\n",
       "  </tbody>\n",
       "</table>\n",
       "</div>"
      ],
      "text/plain": [
       "    mid  rno  to_eid  eid\n",
       "4     4    2      49   49\n",
       "5     4    3     120  120\n",
       "6     4    4      59   59\n",
       "8     5    2      53   53\n",
       "16   12    2     120  120"
      ]
     },
     "execution_count": 400,
     "metadata": {},
     "output_type": "execute_result"
    }
   ],
   "source": [
    "recipient_base[recipient_base['rno'] > 1].head()\n"
   ]
  },
  {
   "cell_type": "code",
   "execution_count": 418,
   "metadata": {
    "collapsed": false
   },
   "outputs": [
    {
     "name": "stdout",
     "output_type": "stream",
     "text": [
      "Top ten mass email (>2 recipients) senders\n",
      "Richard Shapiro       1328\n",
      "Steven J. Kean         923\n",
      "Jeffrey T. Hodge       658\n",
      "Susan Bailey           579\n",
      "Sara Shackleton        523\n",
      "Steven Harris          488\n",
      "Richard B. Sanders     448\n",
      "Tana Jones             426\n",
      "Carol St Clair         423\n",
      "James D. Steffes       415\n",
      "Name: name, dtype: int64\n"
     ]
    }
   ],
   "source": [
    "mass_email_merge = message_base.merge(recipient_base[recipient_base['rno'] > 1], how = 'inner', on = 'mid')\n",
    "mass_email_merge['eid'] = mass_email_merge['to_eid']\n",
    "mass_email_merge = employee_base.merge(mass_email_merge, how = 'inner', on = 'eid')\n",
    "\n",
    "print \"Top ten mass email (>2 recipients) senders\"\n",
    "print mass_email_merge['name'].value_counts().head(10)"
   ]
  },
  {
   "cell_type": "markdown",
   "metadata": {},
   "source": [
    "Keep exploring the dataset, which other questions would you ask?\n",
    "\n",
    "Work in pairs. Give each other a challenge and try to solve it."
   ]
  }
 ],
 "metadata": {
  "anaconda-cloud": {},
  "kernelspec": {
   "display_name": "Python [default]",
   "language": "python",
   "name": "python2"
  },
  "language_info": {
   "codemirror_mode": {
    "name": "ipython",
    "version": 2
   },
   "file_extension": ".py",
   "mimetype": "text/x-python",
   "name": "python",
   "nbconvert_exporter": "python",
   "pygments_lexer": "ipython2",
   "version": "2.7.12"
  }
 },
 "nbformat": 4,
 "nbformat_minor": 0
}
